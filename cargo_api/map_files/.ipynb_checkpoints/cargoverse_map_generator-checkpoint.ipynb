{
 "cells": [
  {
   "cell_type": "code",
   "execution_count": 1,
   "metadata": {},
   "outputs": [],
   "source": [
    "### Use \"lane_segments_loc.txt\" and 'T03_waypoints.npy' \n",
    "### to generate \"pruned_argoverse_T03_90003_vector_map_pretty.xml\"\n",
    "\n",
    "\n",
    "import xml.etree.ElementTree as ET\n",
    "import numpy as np\n",
    "\n",
    "city_name = \"T03\"\n",
    "city_id = 90003\n",
    "\n",
    "fname = f\"pruned_argoverse_{city_name}_{city_id}_vector_map.xml\"\n",
    "\n",
    "wp_fname = f'{city_name}_waypoints.npy'\n",
    "wp = np.load(wp_fname)\n",
    "wp = np.unique(wp, axis=0)\n",
    "root = ET.Element(\"CarlaMap\")\n"
   ]
  },
  {
   "cell_type": "code",
   "execution_count": 2,
   "metadata": {},
   "outputs": [],
   "source": [
    "for node_id in range(wp.shape[0]):\n",
    "    node = ET.SubElement(root, \"node\")\n",
    "    node.set(\"id\", str(node_id))\n",
    "    node.set(\"x\", str(wp[node_id, 0]))\n",
    "    node.set(\"y\", str(wp[node_id, 1]))\n",
    "\n",
    "tree = ET.ElementTree(root)\n",
    "\n",
    "\n"
   ]
  },
  {
   "cell_type": "code",
   "execution_count": 3,
   "metadata": {},
   "outputs": [
    {
     "name": "stdout",
     "output_type": "stream",
     "text": [
      "410\n"
     ]
    }
   ],
   "source": [
    "import pickle\n",
    "\n",
    "with open(\"lane_segments_loc.txt\", \"rb\") as fp:   # Unpickling\n",
    "    lane_segments_loc = pickle.load(fp)\n",
    "\n",
    "print(len(lane_segments_loc))\n",
    "    \n"
   ]
  },
  {
   "cell_type": "code",
   "execution_count": null,
   "metadata": {
    "scrolled": false
   },
   "outputs": [],
   "source": [
    "import pdb\n",
    "\n",
    "\n",
    "suspect_ids = []\n",
    "curr_id = 900000\n",
    "for i, lane_segment_loc in enumerate(lane_segments_loc): \n",
    "    if len(lane_segment_loc) < 3:\n",
    "#         pdb.set_trace()\n",
    "        continue\n",
    "#     if sum(np.square(np.array(lane_segment_loc[0][:2]) - np.array(lane_segment_loc[1][:2]))) >100 or sum(np.square(np.array(lane_segment_loc[-1][:2]) - np.array(lane_segment_loc[-2][:2]))) >100:\n",
    "#         suspect_ids.append(i)\n",
    "#         pdb.set_trace()\n",
    "#         continue\n",
    "\n",
    "    way = ET.SubElement(root, \"way\")\n",
    "    curr_id = curr_id + 1\n",
    "    way.set(\"lane_id\", str(curr_id))\n",
    "    for k, node_loc in enumerate(lane_segment_loc):\n",
    "        nd = ET.SubElement(way, \"nd\")\n",
    "        for wp_idx in range(wp.shape[0]):\n",
    "            if k == len(lane_segment_loc)-1:\n",
    "                pdb.set_trace()\n",
    "                continue\n",
    "            \n",
    "            \n",
    "            if wp[wp_idx][:2].tolist() == node_loc[:2]:\n",
    "                nd.set(\"ref\", str(wp_idx))\n",
    "#     if i == 100:\n",
    "#         break\n",
    "        \n",
    "        \n"
   ]
  },
  {
   "cell_type": "code",
   "execution_count": 8,
   "metadata": {},
   "outputs": [],
   "source": [
    "with open(fname, \"wb\") as files:\n",
    "    tree.write(files)"
   ]
  },
  {
   "cell_type": "code",
   "execution_count": 9,
   "metadata": {},
   "outputs": [],
   "source": [
    "import xml.dom.minidom\n",
    "dom = xml.dom.minidom.parse(fname)\n",
    "pretty_xml_as_string = dom.toprettyxml()\n",
    "\n",
    "fname_pretty = f\"pruned_argoverse_{city_name}_{city_id}_vector_map_pretty.xml\"\n",
    "with open(fname_pretty, \"w\") as files:\n",
    "    files.write(pretty_xml_as_string)"
   ]
  },
  {
   "cell_type": "code",
   "execution_count": 19,
   "metadata": {},
   "outputs": [
    {
     "name": "stdout",
     "output_type": "stream",
     "text": [
      "410\n",
      "[118, 119, 127, 128, 129, 131, 132, 140, 141, 143, 174, 177, 184, 188, 214, 234, 235, 241, 265, 278, 279, 322, 324, 329, 331, 333, 359, 364, 371, 375, 386, 387, 399, 401, 409]\n"
     ]
    }
   ],
   "source": [
    "print(len(lane_segments_loc))\n",
    "print(suspect_ids)\n"
   ]
  },
  {
   "cell_type": "code",
   "execution_count": 17,
   "metadata": {},
   "outputs": [],
   "source": [
    "cnt = 0\n",
    "for sid in suspect_ids:\n",
    "    lane_segment = lane_segments_loc[sid]\n",
    "    if sum(np.square(np.array(lane_segment[-3][:2]) - np.array(lane_segment[-2][:2]))) >100:\n",
    "        cnt = cnt+1"
   ]
  },
  {
   "cell_type": "code",
   "execution_count": 18,
   "metadata": {
    "scrolled": false
   },
   "outputs": [
    {
     "name": "stdout",
     "output_type": "stream",
     "text": [
      "0\n"
     ]
    }
   ],
   "source": [
    "print(cnt)\n"
   ]
  },
  {
   "cell_type": "code",
   "execution_count": null,
   "metadata": {},
   "outputs": [],
   "source": []
  }
 ],
 "metadata": {
  "kernelspec": {
   "display_name": "Python37_LaneGCN",
   "language": "python",
   "name": "lanegcn"
  },
  "language_info": {
   "codemirror_mode": {
    "name": "ipython",
    "version": 3
   },
   "file_extension": ".py",
   "mimetype": "text/x-python",
   "name": "python",
   "nbconvert_exporter": "python",
   "pygments_lexer": "ipython3",
   "version": "3.7.9"
  }
 },
 "nbformat": 4,
 "nbformat_minor": 4
}
