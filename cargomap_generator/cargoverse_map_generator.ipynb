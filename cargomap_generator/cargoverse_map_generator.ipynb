{
 "cells": [
  {
   "cell_type": "markdown",
   "metadata": {},
   "source": [
    "# Generate \n",
    "# pruned_argoverse_T0X_9000X_vector_map.xml \n"
   ]
  },
  {
   "cell_type": "code",
   "execution_count": 2,
   "metadata": {},
   "outputs": [
    {
     "name": "stdout",
     "output_type": "stream",
     "text": [
      "cargomap/pruned_argoverse_T01_90001_vector_map.xml has saved.\n",
      "cargomap/pruned_argoverse_T02_90002_vector_map.xml has saved.\n",
      "'-5' is not in list\n",
      "'-4' is not in list\n",
      "cargomap/pruned_argoverse_T03_90003_vector_map.xml has saved.\n",
      "cargomap/pruned_argoverse_T04_90004_vector_map.xml has saved.\n",
      "cargomap/pruned_argoverse_T05_90005_vector_map.xml has saved.\n"
     ]
    }
   ],
   "source": [
    "import pandas as pd\n",
    "from ast import literal_eval\n",
    "import numpy as np\n",
    "import pickle\n",
    "import xml.etree.ElementTree as ET\n",
    "import xml.dom.minidom\n",
    "import pdb\n",
    "\n",
    "wp_root = 'wp_dicts/'\n",
    "xodr_root = 'xodr_files/'\n",
    "cargomap_root = 'cargomap/'\n",
    "\n",
    "available_maps = ['Town01', 'Town02', 'Town03', 'Town04', 'Town05']\n",
    "converters = {'idx':int, 'id':int, 'road_id':int, 'lane_id':int, 'loc':literal_eval, \n",
    "             'is_junction':bool}\n",
    "for map_name in available_maps:\n",
    "    \n",
    "    # load wp_dict\n",
    "    csv_fname = wp_root + 'wp_dict_' + map_name + '.csv'\n",
    "    wp_df = pd.read_csv(csv_fname, converters=converters)\n",
    "    wp_df = wp_df.rename(columns={'Unnamed: 0': 'idx'}) # It has only 'driving' type wp\n",
    "\n",
    "    wp_dict = wp_df.to_dict()\n",
    "    wp_len = len(wp_dict['idx'])\n",
    "    \n",
    "    # load light_xodr \n",
    "    fname = xodr_root + map_name+'_light_pretty.xodr'\n",
    "    with open(fname) as fi:\n",
    "        xml_tree = ET.parse(fi)\n",
    "    root = xml_tree.getroot()\n",
    "    \n",
    "    # Generate node_list\n",
    "    node_list = []\n",
    "    for i in range(wp_len):\n",
    "        wpd = {'id': str(wp_dict['idx'][i]), 'x':str(wp_dict['loc'][i][0]), 'y':str(wp_dict['loc'][i][1])} \n",
    "        node_list.append(wpd)\n",
    "        \n",
    "    # Generate way_list\n",
    "    # step 01 : find ref nodes\n",
    "\n",
    "    # Key: 'road_id' + '_' + 'lane_id' \n",
    "    # Value: [idx0, idx1, ...]\n",
    "\n",
    "    lane_segments = {}\n",
    "    for i in range(wp_len):\n",
    "        key = str(wp_dict['road_id'][i]) + '_' + str(wp_dict['lane_id'][i])\n",
    "        if key in lane_segments.keys():\n",
    "            lane_segments[key].append(wp_dict['idx'][i])\n",
    "        else:\n",
    "            lane_segments[key] = [wp_dict['idx'][i]]\n",
    "    \n",
    "    # way step 02 : find next, previous key\n",
    "\n",
    "    # Key: 'road_id' + '_' + 'lane_id' \n",
    "    # Value: {'node': [idx0, idx1, ...], 'next_key': next road id, 'previous_key': previous road id\n",
    "\n",
    "    lane_segments_np = {}\n",
    "    for i, (k, v) in enumerate(lane_segments.items()):\n",
    "\n",
    "        road_id, lane_id = k.split('_')\n",
    "        for x_child in root:\n",
    "            if x_child.tag == \"road\" and x_child.attrib['id'] == road_id:\n",
    "\n",
    "\n",
    "                for z_child in x_child:\n",
    "                    if z_child.tag == \"predecessor\":\n",
    "                        pre_type = z_child.attrib['elementType']\n",
    "                        pre_id = z_child.attrib['elementId']\n",
    "                        pre_from = eval(z_child.attrib['lane_id_from'])\n",
    "                        pre_to = eval(z_child.attrib['lane_id_to'])\n",
    "\n",
    "                    elif z_child.tag == \"successor\":\n",
    "                        suc_type = z_child.attrib['elementType']\n",
    "                        suc_id = z_child.attrib['elementId']\n",
    "                        suc_from = eval(z_child.attrib['lane_id_from'])\n",
    "                        suc_to = eval(z_child.attrib['lane_id_to'])\n",
    "                break\n",
    "    #     if i == 73:\n",
    "    #         pdb.set_trace()\n",
    "        nk = []\n",
    "        if suc_type == 'road':\n",
    "            suc_road_id = suc_id\n",
    "            try:\n",
    "                suc_lane_id = suc_to[suc_from.index(lane_id)]\n",
    "                nk.append(suc_road_id + '_' + suc_lane_id)\n",
    "            except Exception as e:\n",
    "                print(e) ## Bug?\n",
    "        elif suc_type == 'junction':\n",
    "            for x_child in root:\n",
    "                if x_child.tag == \"junction\" and x_child.attrib['id'] == suc_id:\n",
    "                    for y_child in x_child:\n",
    "                        if y_child.tag == \"connection\" and y_child.attrib['incomingRoad'] == road_id:\n",
    "                            for z_child in y_child:\n",
    "                                if z_child.tag == 'laneLink' and z_child.attrib['from'] == lane_id:\n",
    "                                    suc_road_id = y_child.attrib['connectingRoad']\n",
    "                                    suc_lane_id = z_child.attrib['to']\n",
    "                                    nk.append(suc_road_id + '_' + suc_lane_id)\n",
    "\n",
    "\n",
    "        pk = []\n",
    "        if pre_type == 'road':\n",
    "            pre_road_id = pre_id\n",
    "            pre_lane_id = pre_to[pre_from.index(lane_id)]\n",
    "            pk.append(pre_road_id + '_' + pre_lane_id)\n",
    "        elif pre_type == 'junction':\n",
    "            for x_child in root:\n",
    "                if x_child.tag == \"junction\" and x_child.attrib['id'] == pre_id:\n",
    "                    for y_child in x_child:\n",
    "                        if y_child.tag == \"connection\" and y_child.attrib['incomingRoad'] == road_id:\n",
    "                            for z_child in y_child:\n",
    "                                if z_child.tag == 'laneLink' and z_child.attrib['from'] == lane_id:\n",
    "                                    pre_road_id = y_child.attrib['connectingRoad']\n",
    "                                    pre_lane_id = z_child.attrib['to']\n",
    "                                    pk.append(pre_road_id + '_' + pre_lane_id)\n",
    "\n",
    "        key = k    \n",
    "        value = {}\n",
    "        value['node'] = v\n",
    "        value['next_key'] = nk\n",
    "        value['previous_key'] = pk\n",
    "        lane_segments_np[key] = value\n",
    "\n",
    "    \n",
    "    # way step 03 : find left right neighbor, is_intersection\n",
    "\n",
    "    way_len = len(lane_segments_np.keys())\n",
    "    curr_id = 900000 + int(map_name[-2:]) * 10000\n",
    "\n",
    "    way_list = []\n",
    "    for k, v in lane_segments_np.items():\n",
    "        curr_id = curr_id + 1\n",
    "        ## lane_id: argoverse way identifier, lane: OpenDrive lane identifier\n",
    "        road, lane = k.split('_')\n",
    "        nodes = v['node']\n",
    "        nk = v['next_key']\n",
    "        pk = v['previous_key']\n",
    "        if int(lane) > 0:\n",
    "            rnk = road + '_' + str(int(lane)+1)\n",
    "            lnk = road + '_' + str(int(lane)-1)\n",
    "        else:\n",
    "            rnk = road + '_' + str(int(lane)-1)\n",
    "            lnk = road + '_' + str(int(lane)+1)\n",
    "\n",
    "        if rnk in lane_segments_np.keys():\n",
    "            right_neighbor_key = rnk\n",
    "        else:\n",
    "            right_neighbor_key = None\n",
    "\n",
    "        if lnk in lane_segments_np.keys():\n",
    "            left_neighbor_key = lnk\n",
    "        else:\n",
    "            left_neighbor_key = None\n",
    "\n",
    "        is_intersection = wp_dict['is_junction'][nodes[0]]\n",
    "\n",
    "        way_dict = {'curr_id':curr_id, 'lane_key':k, 'nodes':nodes, 'next_key':nk, 'previous_key':pk,\n",
    "                'right_neighbor_key':right_neighbor_key, 'left_neighbor_key':left_neighbor_key,\n",
    "                'is_intersection':is_intersection}\n",
    "        way_list.append(way_dict)\n",
    "    \n",
    "    # way step 04 : replace from_keys to to_keys\n",
    "    \n",
    "    curr_id_list = []\n",
    "    lane_key_list =[]\n",
    "    for wd in way_list:\n",
    "        curr_id_list.append(wd['curr_id'])\n",
    "        lane_key_list.append(wd['lane_key'])\n",
    "    \n",
    "    from_keys = ['right_neighbor_key', 'left_neighbor_key']\n",
    "    to_keys = ['r_neighbor_id', 'l_neighbor_id']\n",
    "\n",
    "    for way_dict in way_list:\n",
    "        for from_key, to_key in zip(from_keys, to_keys):\n",
    "            if way_dict[from_key] in lane_key_list:\n",
    "                idx = lane_key_list.index(way_dict[from_key])\n",
    "                way_dict[to_key] = curr_id_list[idx]\n",
    "            else:\n",
    "                way_dict[to_key] = None\n",
    "\n",
    "    for way_dict in way_list:\n",
    "        for from_key in from_keys:\n",
    "            del way_dict[from_key]\n",
    "            \n",
    "    from_keys = ['next_key', 'previous_key']\n",
    "    to_keys = ['successor', 'predecessor']\n",
    "\n",
    "    for way_dict in way_list:\n",
    "        for from_key, to_key in zip(from_keys, to_keys):\n",
    "            id_list = []\n",
    "            for k in way_dict[from_key]:\n",
    "                if k in lane_key_list:\n",
    "                    idx = lane_key_list.index(k)\n",
    "                    id_list.append(curr_id_list[idx])\n",
    "            way_dict[to_key] = id_list \n",
    "\n",
    "    # Commented for debug\n",
    "    # for way_dict in way_list:\n",
    "    #     for from_key in from_keys:\n",
    "    #         del way_dict[from_key]\n",
    "    \n",
    "    # way step 05: correct lane direction\n",
    "    # from: road-wise direction\n",
    "    # to: lane-wise direction\n",
    "\n",
    "    for way_dict in way_list:\n",
    "        # lane direction is opposite from road direction\n",
    "        if int(way_dict['lane_key'].split('_')[1]) > 0 : \n",
    "            t = way_dict['successor']\n",
    "            way_dict['successor'] = way_dict['predecessor']\n",
    "            way_dict['predecessor'] = t\n",
    "    \n",
    "    # way step 06: generate uninformed predecessor\n",
    "    # (original XODR file does't provide predecessor information in junction)\n",
    "    \n",
    "    map_suc = {} # {suc:cur, ...} <-> {cur:pre}\n",
    "    for way_dict in way_list:\n",
    "        from_idx = way_dict['curr_id']\n",
    "        to_idxs = way_dict['successor']\n",
    "\n",
    "        for to_idx in to_idxs:\n",
    "            if to_idx in map_suc.keys():\n",
    "                map_suc[to_idx].append(from_idx)\n",
    "            else:\n",
    "                map_suc[to_idx] = [from_idx]\n",
    "\n",
    "    for way_dict in way_list:\n",
    "        curr_id = way_dict['curr_id']\n",
    "        if curr_id in map_suc.keys():\n",
    "            way_dict['predecessor'] = map_suc[curr_id]\n",
    "\n",
    "\n",
    "    # generate argoverse xml map!\n",
    "\n",
    "\n",
    "    city_name = \"T\"+map_name[-2:]\n",
    "    city_id = 90000 + int(map_name[-2:])\n",
    "    fname = cargomap_root + f\"pruned_argoverse_{city_name}_{city_id}_vector_map.xml\"\n",
    "\n",
    "    root = ET.Element(\"CarlaMap\")\n",
    "\n",
    "    for node_dict in node_list:\n",
    "        node = ET.SubElement(root, \"node\")\n",
    "        node.set(\"id\", node_dict['id'])\n",
    "        node.set(\"x\", node_dict['x'])\n",
    "        node.set(\"y\", node_dict['y'])\n",
    "        \n",
    "    for way_dict in way_list:\n",
    "    \n",
    "    #     if len(way_dict['nodes']) < 2: -> loss connectivity\n",
    "    #         continue\n",
    "\n",
    "        way = ET.SubElement(root, \"way\")\n",
    "        way.set(\"lane_id\", str(way_dict['curr_id']))\n",
    "\n",
    "        tag = ET.SubElement(way, \"tag\")\n",
    "        tag.set(\"k\", \"is_intersection\")\n",
    "        tag.set(\"v\", str(way_dict['is_intersection']))\n",
    "\n",
    "        tag = ET.SubElement(way, \"tag\")\n",
    "        tag.set(\"k\", \"l_neighbor_id\")\n",
    "        tag.set(\"v\", str(way_dict[\"l_neighbor_id\"]))\n",
    "\n",
    "        tag = ET.SubElement(way, \"tag\")\n",
    "        tag.set(\"k\", \"r_neighbor_id\")\n",
    "        tag.set(\"v\", str(way_dict[\"r_neighbor_id\"]))\n",
    "\n",
    "        for idx in way_dict['nodes']:\n",
    "            nd = ET.SubElement(way, \"nd\")\n",
    "            nd.set(\"ref\", str(idx))\n",
    "\n",
    "        try:\n",
    "            for pre in way_dict[\"predecessor\"]:\n",
    "                tag = ET.SubElement(way, \"tag\")\n",
    "                tag.set(\"k\", \"predecessor\")\n",
    "                tag.set(\"v\", str(pre))\n",
    "        except Exception as e:\n",
    "            pass\n",
    "\n",
    "        try:\n",
    "            for suc in way_dict['successor']:\n",
    "                tag = ET.SubElement(way, \"tag\")\n",
    "                tag.set(\"k\", \"successor\")\n",
    "                tag.set(\"v\", str(suc))\n",
    "        except Exception as e:\n",
    "            pass\n",
    "    \n",
    "\n",
    "    tree = ET.ElementTree(root)\n",
    "    with open(fname, \"wb\") as files:\n",
    "        tree.write(files)\n",
    "    \n",
    "    \n",
    "    dom = xml.dom.minidom.parse(fname)\n",
    "    pretty_xml_as_string = dom.toprettyxml()\n",
    "\n",
    "    fname_pretty = cargomap_root + f\"pruned_argoverse_{city_name}_{city_id}_vector_map.xml\"\n",
    "    with open(fname_pretty, \"w\") as files:\n",
    "        files.write(pretty_xml_as_string)\n",
    "    print(fname_pretty, 'has saved.')\n",
    "    "
   ]
  },
  {
   "cell_type": "code",
   "execution_count": 3,
   "metadata": {},
   "outputs": [
    {
     "data": {
      "text/plain": [
       "486"
      ]
     },
     "execution_count": 3,
     "metadata": {},
     "output_type": "execute_result"
    }
   ],
   "source": [
    "way_list.__len__()"
   ]
  },
  {
   "cell_type": "code",
   "execution_count": 4,
   "metadata": {},
   "outputs": [
    {
     "data": {
      "image/png": "[encoded data removed]",
      "text/plain": [
       "<Figure size 432x288 with 1 Axes>"
      ]
     },
     "metadata": {
      "needs_background": "light"
     },
     "output_type": "display_data"
    }
   ],
   "source": [
    "# pre / suc sanity check \n",
    "import matplotlib.pyplot as plt\n",
    "\n",
    "wl = len(way_list)\n",
    "heat_map = np.zeros([wl, wl])\n",
    "\n",
    "init_idx = 900000 + int(map_name[-2:]) * 10000 +1\n",
    "\n",
    "for i, way_dict in enumerate(way_list):\n",
    "    from_idx = way_dict['curr_id']\n",
    "    to_idxs = way_dict['successor']\n",
    "    for to_idx in to_idxs:\n",
    "        heat_map[from_idx -init_idx, to_idx -init_idx] = 1\n",
    "        \n",
    "    to_idxs = way_dict['predecessor']\n",
    "    for to_idx in to_idxs:\n",
    "        heat_map[from_idx -init_idx, to_idx -init_idx] = 1\n",
    "        \n",
    "    heat_map[i, i] = 1\n",
    "    \n",
    "diff_map = heat_map - np.transpose(heat_map)\n",
    "\n",
    "plt.imshow(diff_map, cmap='gray')\n",
    "plt.show()\n"
   ]
  },
  {
   "cell_type": "code",
   "execution_count": 5,
   "metadata": {},
   "outputs": [
    {
     "data": {
      "text/plain": [
       "array([[0., 0., 0., 0., 0., 0., 0., 0., 0., 0.],\n",
       "       [0., 0., 0., 0., 0., 0., 0., 0., 0., 0.],\n",
       "       [0., 0., 0., 0., 0., 0., 0., 0., 0., 0.],\n",
       "       [0., 0., 0., 0., 0., 0., 0., 0., 0., 0.],\n",
       "       [0., 0., 0., 0., 0., 0., 0., 0., 0., 0.],\n",
       "       [0., 0., 0., 0., 0., 0., 0., 0., 0., 0.],\n",
       "       [0., 0., 0., 0., 0., 0., 0., 0., 0., 0.],\n",
       "       [0., 0., 0., 0., 0., 0., 0., 0., 0., 0.],\n",
       "       [0., 0., 0., 0., 0., 0., 0., 0., 0., 0.],\n",
       "       [0., 0., 0., 0., 0., 0., 0., 0., 0., 0.]])"
      ]
     },
     "execution_count": 5,
     "metadata": {},
     "output_type": "execute_result"
    }
   ],
   "source": [
    "diff_map[:10, :10]"
   ]
  },
  {
   "cell_type": "code",
   "execution_count": 6,
   "metadata": {},
   "outputs": [
    {
     "name": "stdout",
     "output_type": "stream",
     "text": [
      "{'curr_id': 950068, 'lane_key': '2307_-1', 'nodes': [1659, 1661, 1663, 1665, 1667, 1669, 1671, 1673, 1675, 1677, 1679, 1681, 1683, 1685, 1687, 1689, 1691, 1693, 1695, 1697, 1699, 1701, 1703, 1705, 1707, 1709], 'next_key': ['14_-1'], 'previous_key': ['13_-1'], 'is_intersection': True, 'r_neighbor_id': 950067, 'l_neighbor_id': None, 'successor': [950188], 'predecessor': [950333]}\n",
      "{'curr_id': 950067, 'lane_key': '2307_-2', 'nodes': [1658, 1660, 1662, 1664, 1666, 1668, 1670, 1672, 1674, 1676, 1678, 1680, 1682, 1684, 1686, 1688, 1690, 1692, 1694, 1696, 1698, 1700, 1702, 1704, 1706, 1708], 'next_key': ['14_-2'], 'previous_key': ['13_-2'], 'is_intersection': True, 'r_neighbor_id': None, 'l_neighbor_id': 950068, 'successor': [950187], 'predecessor': [950332]}\n"
     ]
    }
   ],
   "source": [
    "# for debug\n",
    "print(way_list[67])\n",
    "print(way_list[66])\n",
    "# print(way_list[77])"
   ]
  },
  {
   "cell_type": "code",
   "execution_count": 7,
   "metadata": {},
   "outputs": [
    {
     "name": "stdout",
     "output_type": "stream",
     "text": [
      "24212\n",
      "{'id': '0', 'x': '15.171202659606934', 'y': '201.64096069335938'}\n",
      "{'id': '24211', 'x': '32.991817474365234', 'y': '-76.92013549804688'}\n"
     ]
    }
   ],
   "source": [
    "# sanity check\n",
    "print(len(node_list))\n",
    "print(node_list[0])\n",
    "print(node_list[-1])"
   ]
  },
  {
   "cell_type": "code",
   "execution_count": 8,
   "metadata": {},
   "outputs": [
    {
     "name": "stdout",
     "output_type": "stream",
     "text": [
      "{'curr_id': 950137, 'lane_key': '49_-2', 'nodes': [4029, 4033, 4037, 4041, 4045, 4049, 4053, 4057, 4061, 4065, 4069, 4073, 4077, 4081], 'next_key': ['1046_-2', '1121_-1'], 'previous_key': ['5_-2'], 'is_intersection': True, 'r_neighbor_id': None, 'l_neighbor_id': 950138, 'successor': [950386, 950476], 'predecessor': [950278]}\n",
      "{'curr_id': 950354, 'lane_key': '4_-1', 'nodes': [18093, 18097, 18101, 18105, 18109, 18113, 18117, 18121, 18125, 18129, 18133, 18137, 18141, 18145, 18149, 18153, 18157, 18161, 18165, 18169, 18173, 18177, 18181, 18185, 18189], 'next_key': ['68_-1', '89_-1'], 'previous_key': [], 'is_intersection': True, 'r_neighbor_id': 950353, 'l_neighbor_id': None, 'successor': [950453, 950112], 'predecessor': [950226]}\n"
     ]
    }
   ],
   "source": [
    "len(way_list)\n",
    "print(way_list[136])\n",
    "print(way_list[353])"
   ]
  },
  {
   "cell_type": "code",
   "execution_count": null,
   "metadata": {},
   "outputs": [],
   "source": [
    "1566_1, "
   ]
  },
  {
   "cell_type": "code",
   "execution_count": null,
   "metadata": {},
   "outputs": [],
   "source": [
    "# junction -> neighbor X"
   ]
  },
  {
   "cell_type": "code",
   "execution_count": 17,
   "metadata": {},
   "outputs": [
    {
     "data": {
      "text/plain": [
       "3"
      ]
     },
     "execution_count": 17,
     "metadata": {},
     "output_type": "execute_result"
    }
   ],
   "source": [
    "int(map_name[-2:])"
   ]
  },
  {
   "cell_type": "code",
   "execution_count": 18,
   "metadata": {},
   "outputs": [],
   "source": []
  },
  {
   "cell_type": "code",
   "execution_count": 19,
   "metadata": {},
   "outputs": [],
   "source": []
  },
  {
   "cell_type": "code",
   "execution_count": 20,
   "metadata": {},
   "outputs": [],
   "source": []
  },
  {
   "cell_type": "code",
   "execution_count": 21,
   "metadata": {},
   "outputs": [],
   "source": []
  },
  {
   "cell_type": "markdown",
   "metadata": {},
   "source": [
    "# Generate \n",
    "# T0X_9000X_tableidx_to_laneid_map.json \n",
    "# T0X_9000X_halluc_bbox_table.npy \n",
    "\n",
    "\n"
   ]
  },
  {
   "cell_type": "code",
   "execution_count": 22,
   "metadata": {},
   "outputs": [],
   "source": [
    "# load light_xodr \n",
    "\n",
    "fname = map_name+'_light_pretty.xodr'\n",
    "with open(fname) as fi:\n",
    "    xml_tree = ET.parse(fi)\n",
    "root = xml_tree.getroot()"
   ]
  },
  {
   "cell_type": "code",
   "execution_count": 23,
   "metadata": {
    "scrolled": false
   },
   "outputs": [
    {
     "name": "stdout",
     "output_type": "stream",
     "text": [
      "81_-2  skipped\n",
      "77_-1  skipped\n",
      "77_1  skipped\n",
      "51_-1  skipped\n",
      "51_1  skipped\n",
      "12_-5  skipped\n",
      "12_-4  skipped\n",
      "11_-5  skipped\n",
      "11_-4  skipped\n",
      "9_-5  skipped\n",
      "9_-4  skipped\n",
      "5_-2  skipped\n",
      "5_-1  skipped\n",
      "5_4  skipped\n",
      "5_5  skipped\n",
      "32_-2  skipped\n",
      "32_-1  skipped\n",
      "32_4  skipped\n",
      "32_5  skipped\n",
      "35_-5  skipped\n",
      "35_-4  skipped\n",
      "37_-5  skipped\n",
      "37_-4  skipped\n",
      "45_-2  skipped\n"
     ]
    },
    {
     "name": "stderr",
     "output_type": "stream",
     "text": [
      "/home/jongwon/anaconda3/envs/lanegcn/lib/python3.7/site-packages/argoverse/utils/centerline_utils.py:71: RuntimeWarning: divide by zero encountered in true_divide\n",
      "  inv_slopes = -1.0 / slopes\n"
     ]
    }
   ],
   "source": [
    "from argoverse.utils.manhattan_search import compute_point_cloud_bbox\n",
    "from argoverse.utils.centerline_utils import centerline_to_polygon\n",
    "import json\n",
    "\n",
    "# map lane segment IDs to their index in the table\n",
    "tableidx_to_laneid_map = {}\n",
    "# array that holds xmin,ymin,xmax,ymax for each coord\n",
    "halluc_bbox_table = []\n",
    "table_idx_counter = 0\n",
    "\n",
    "for way_dict in way_list:\n",
    "    \n",
    "    if len(way_dict['nodes']) < 2:\n",
    "        print(way_dict['lane_key'], ' skipped')\n",
    "        continue\n",
    "    \n",
    "    tableidx_to_laneid_map[table_idx_counter] = way_dict['curr_id']\n",
    "    table_idx_counter += 1\n",
    "    \n",
    "#     root\n",
    "    road_id, lane_id = way_dict['lane_key'].split('_')\n",
    "    for road in root.iter('road'):\n",
    "        if road.attrib['id'] == road_id:\n",
    "            for lane in road.iter('lane'):\n",
    "                lane_ids = eval(lane.attrib['ids'])\n",
    "                lane_widths = eval(lane.attrib['widths'])\n",
    "                assert len(lane_ids) == len(lane_widths)\n",
    "                width = lane_widths[lane_ids.index(lane_id)]\n",
    "                    \n",
    "#                     \n",
    "    \n",
    "#     print(way_dict['lane_key'])\n",
    "#     print(width)\n",
    "    \n",
    "    \n",
    "    list_np_xy = []\n",
    "    for node in way_dict['nodes']:\n",
    "        x = wp_dict['loc'][node][0]\n",
    "        y = wp_dict['loc'][node][1]\n",
    "        list_np_xy.append(np.array([x, y]))\n",
    "    try:\n",
    "        poly = centerline_to_polygon(np.stack(list_np_xy), \n",
    "                                     width_scaling_factor = width/3.8, \n",
    "                                     visualize=False)\n",
    "    except Exception as e:\n",
    "        pdb.set_trace()\n",
    "        print(e)\n",
    "        print(np.stack(list_np_xy).shape)\n",
    "    xmin, ymin, xmax, ymax = compute_point_cloud_bbox(poly)\n",
    "    halluc_bbox_table += [(xmin, ymin, xmax, ymax)]\n",
    "\n",
    "halluc_bbox_table = np.array(halluc_bbox_table)\n"
   ]
  },
  {
   "cell_type": "code",
   "execution_count": 24,
   "metadata": {},
   "outputs": [],
   "source": [
    "np.save(\n",
    "        f\"{city_name}_{city_id}_halluc_bbox_table.npy\",\n",
    "        halluc_bbox_table,\n",
    "    )\n",
    "with open(f\"{city_name}_{city_id}_tableidx_to_laneid_map.json\", \"w\") as outfile:\n",
    "    json.dump(tableidx_to_laneid_map, outfile)"
   ]
  },
  {
   "cell_type": "code",
   "execution_count": 248,
   "metadata": {},
   "outputs": [],
   "source": [
    "## Generate validation code of above cell ##\n",
    "\n",
    "## Skip -> Problem?\n",
    "\n"
   ]
  },
  {
   "cell_type": "code",
   "execution_count": 249,
   "metadata": {},
   "outputs": [],
   "source": [
    "halluc_bbox = np.load(f\"{city_name}_{city_id}_halluc_bbox_table.npy\")"
   ]
  },
  {
   "cell_type": "code",
   "execution_count": 223,
   "metadata": {},
   "outputs": [
    {
     "data": {
      "text/plain": [
       "(482, 4)"
      ]
     },
     "execution_count": 223,
     "metadata": {},
     "output_type": "execute_result"
    }
   ],
   "source": [
    "halluc_bbox.shape"
   ]
  },
  {
   "cell_type": "code",
   "execution_count": 172,
   "metadata": {},
   "outputs": [
    {
     "data": {
      "text/plain": [
       "array([-63.13774276, 184.71541919, -33.16697694, 195.38504011])"
      ]
     },
     "execution_count": 172,
     "metadata": {},
     "output_type": "execute_result"
    }
   ],
   "source": [
    "halluc_bbox[0]"
   ]
  },
  {
   "cell_type": "code",
   "execution_count": null,
   "metadata": {},
   "outputs": [],
   "source": []
  },
  {
   "cell_type": "code",
   "execution_count": null,
   "metadata": {},
   "outputs": [],
   "source": []
  }
 ],
 "metadata": {
  "kernelspec": {
   "display_name": "Python37_LaneGCN",
   "language": "python",
   "name": "lanegcn"
  },
  "language_info": {
   "codemirror_mode": {
    "name": "ipython",
    "version": 3
   },
   "file_extension": ".py",
   "mimetype": "text/x-python",
   "name": "python",
   "nbconvert_exporter": "python",
   "pygments_lexer": "ipython3",
   "version": "3.7.9"
  }
 },
 "nbformat": 4,
 "nbformat_minor": 4
}
